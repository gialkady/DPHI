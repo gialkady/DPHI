{
 "cells": [
  {
   "cell_type": "markdown",
   "metadata": {},
   "source": [
    "# Gehad Alkady "
   ]
  },
  {
   "cell_type": "markdown",
   "metadata": {},
   "source": [
    "Python Bootcamp Graded Hands on Exercise Answers (24 DEC 2021)"
   ]
  },
  {
   "cell_type": "markdown",
   "metadata": {
    "id": "A8yCrhVHQ_lC"
   },
   "source": [
    "# Overview\n",
    "\n",
    "Dear Learner, \n",
    "\n",
    "Congratulations, you have studied Python all the way through the end of this bootcamp!!! This is the final graded hands-on exercise where you will be accomplishing the below mentioned task.\n",
    "\n",
    "Authors: Albana Celepija, Vinayak Deshpande"
   ]
  },
  {
   "cell_type": "markdown",
   "metadata": {
    "id": "y_B39vCQGRTH"
   },
   "source": [
    "### Task 1\n",
    "\n",
    "We have declared a tuple containing five same elements as following:\n",
    "T = (‘python’, ‘python’, ‘python’, ‘python’, ‘python’).\n",
    "Re-write the same code in an optimal/simple way that fetches the same result."
   ]
  },
  {
   "cell_type": "code",
   "execution_count": null,
   "metadata": {
    "colab": {
     "base_uri": "https://localhost:8080/"
    },
    "id": "cu9NGkzKfwEc",
    "outputId": "adf22da6-101b-41e8-d275-eb56bc1a2d0c"
   },
   "outputs": [
    {
     "data": {
      "text/plain": [
       "('python', 'python', 'python', 'python', 'python')"
      ]
     },
     "execution_count": 2,
     "metadata": {},
     "output_type": "execute_result"
    }
   ],
   "source": [
    "T = (\"python\",)*5\n",
    "T"
   ]
  },
  {
   "cell_type": "markdown",
   "metadata": {
    "id": "H_8tFcijGRTQ"
   },
   "source": [
    "### Task 2\n",
    "\n",
    "Write code to print characters from a string that are present at an even index number.\n",
    "For example, if your input string is \"python\", the output characters will be (p,t,o)."
   ]
  },
  {
   "cell_type": "code",
   "execution_count": null,
   "metadata": {
    "colab": {
     "base_uri": "https://localhost:8080/"
    },
    "id": "Ve-MxY40gvIY",
    "outputId": "20eddf13-afcc-489f-84a3-88a19f1dabcb"
   },
   "outputs": [
    {
     "name": "stdout",
     "output_type": "stream",
     "text": [
      "pto"
     ]
    }
   ],
   "source": [
    "a=\"python\"\n",
    "for index in range(len(a)):\n",
    "    # check if index is divisible by 2\n",
    "    if index % 2 == 0:\n",
    "        # print character at index\n",
    "        print(a[index], end='')\n",
    "\n"
   ]
  },
  {
   "cell_type": "markdown",
   "metadata": {
    "id": "FbLVbwcsGRTT"
   },
   "source": [
    "### Task 3\n",
    "\n",
    "Write a function that calculates the average of the elements of the list: \n",
    "\n",
    "elements = [5, 7, 4, 9, 2]\n"
   ]
  },
  {
   "cell_type": "code",
   "execution_count": null,
   "metadata": {
    "colab": {
     "base_uri": "https://localhost:8080/"
    },
    "id": "hj_0fYT-h16y",
    "outputId": "1797f652-b879-4204-fe49-70ed2b370f15"
   },
   "outputs": [
    {
     "name": "stdout",
     "output_type": "stream",
     "text": [
      "Average of the list = 5.4\n"
     ]
    }
   ],
   "source": [
    "#function\n",
    "def Average(list):\n",
    "    return sum(list) / len(list)\n",
    "\n",
    "\n",
    "#test function\n",
    "elements = [5, 7, 4, 9, 2]\n",
    "average = Average(elements)\n",
    "  \n",
    "# Printing average of the list\n",
    "print(\"Average of the list =\", round(average, 2)) "
   ]
  },
  {
   "cell_type": "markdown",
   "metadata": {
    "id": "2pzfM3wS4oqt"
   },
   "source": [
    "### Task 4\n",
    "Write code to find if the given year is a leap year or not."
   ]
  },
  {
   "cell_type": "code",
   "execution_count": null,
   "metadata": {
    "colab": {
     "base_uri": "https://localhost:8080/"
    },
    "id": "Hsr6TCbznVf_",
    "outputId": "4ccd19c1-b132-45db-c884-ba5604823d4d"
   },
   "outputs": [
    {
     "name": "stdout",
     "output_type": "stream",
     "text": [
      "Enter year to be checked:2021\n",
      "The year isn't a leap year!\n"
     ]
    }
   ],
   "source": [
    "year=int(input(\"Enter year to be checked:\"))\n",
    "\n",
    "if(year%4==0 and year%100!=0 or year%400==0):\n",
    "    print(\"The year is a leap year!\")\n",
    "else:\n",
    "    print(\"The year isn't a leap year!\")"
   ]
  },
  {
   "cell_type": "markdown",
   "metadata": {
    "id": "zsVw9yrD5drx"
   },
   "source": [
    "### Task 5\n",
    "Given a list of numbers (integers), find the sum of second maximum and second minimum in the following list.\n",
    "\n",
    "l = [21, 6, 12, 57, 35, 61]"
   ]
  },
  {
   "cell_type": "code",
   "execution_count": 1,
   "metadata": {
    "colab": {
     "base_uri": "https://localhost:8080/"
    },
    "id": "lEwV1kqrnmA2",
    "outputId": "b590fe85-b72a-49ab-9648-68a66aafb43a"
   },
   "outputs": [
    {
     "name": "stdout",
     "output_type": "stream",
     "text": [
      "Second max element is: 57\n",
      "Second min element is: 12\n",
      "sum is: 69\n"
     ]
    }
   ],
   "source": [
    "#function\n",
    "def sum_2max_2min(list1):\n",
    "    length = len(list1)\n",
    "    list1.sort()\n",
    "    \n",
    "    second_max=list1[length-2]\n",
    "    second_min=list1[1]\n",
    "    \n",
    "    print(\"Second max element is:\", second_max)\n",
    "    print(\"Second min element is:\", second_min)\n",
    "\n",
    "    w=[second_max,second_min]\n",
    "    print(\"sum is:\",sum(w))\n",
    "    \n",
    "#test function\n",
    "l = [21, 6, 12, 57, 35, 61]\n",
    "Largest = sum_2max_2min(l)"
   ]
  },
  {
   "cell_type": "markdown",
   "metadata": {
    "id": "ftPUY0J_pfa-"
   },
   "source": [
    "## Scores\n",
    "\n",
    "Each of the tasks is of 2 mark each and the scores will be given accordingly after the notebook review."
   ]
  },
  {
   "cell_type": "code",
   "execution_count": null,
   "metadata": {},
   "outputs": [],
   "source": []
  }
 ],
 "metadata": {
  "colab": {
   "collapsed_sections": [],
   "name": "Copy of Python Bootcamp Graded Hands-on Exercise.ipynb",
   "provenance": []
  },
  "kernelspec": {
   "display_name": "Python 3",
   "language": "python",
   "name": "python3"
  },
  "language_info": {
   "codemirror_mode": {
    "name": "ipython",
    "version": 3
   },
   "file_extension": ".py",
   "mimetype": "text/x-python",
   "name": "python",
   "nbconvert_exporter": "python",
   "pygments_lexer": "ipython3",
   "version": "3.8.8"
  }
 },
 "nbformat": 4,
 "nbformat_minor": 1
}
